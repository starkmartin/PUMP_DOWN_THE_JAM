{
 "cells": [
  {
   "attachments": {},
   "cell_type": "markdown",
   "metadata": {},
   "source": [
    "# Traffic Data wrangling"
   ]
  },
  {
   "attachments": {},
   "cell_type": "markdown",
   "metadata": {},
   "source": [
    "This notebook contains the following aspects of the project\n",
    "* [Traffic import and cleaning](#one): Create compiled CSVs using regex transformations of the very irregular and unstructured raw traffic data\n",
    "* [NaNs Analysis](#two): NaN analysis for a station: recognises NaNs by forcing the frequency of the data to Hourly, then transforming the traffic into daily sums."
   ]
  },
  {
   "cell_type": "code",
   "execution_count": 9,
   "metadata": {},
   "outputs": [],
   "source": [
    "import pandas as pd\n",
    "import numpy as np\n",
    "import matplotlib.pyplot as plt\n",
    "import warnings\n",
    "import seaborn as sns\n",
    "import matplotlib.dates as mdates\n",
    "\n",
    "%matplotlib inline\n",
    "\n",
    "# Plot formatting\n",
    "\n",
    "# eye candy plots\n",
    "plt.style.use('https://github.com/dhaitz/matplotlib-stylesheets/raw/master/pitayasmoothie-light.mplstyle')\n",
    "\n",
    "warnings.filterwarnings('ignore')"
   ]
  },
  {
   "cell_type": "code",
   "execution_count": 36,
   "metadata": {},
   "outputs": [
    {
     "data": {
      "text/html": [
       "<svg  width=\"330\" height=\"55\"><rect x=\"0\" y=\"0\" width=\"55\" height=\"55\" style=\"fill:#7a76c2;stroke-width:2;stroke:rgb(255,255,255)\"/><rect x=\"55\" y=\"0\" width=\"55\" height=\"55\" style=\"fill:#ff6e9c;stroke-width:2;stroke:rgb(255,255,255)\"/><rect x=\"110\" y=\"0\" width=\"55\" height=\"55\" style=\"fill:#f62196;stroke-width:2;stroke:rgb(255,255,255)\"/><rect x=\"165\" y=\"0\" width=\"55\" height=\"55\" style=\"fill:#18c0c4;stroke-width:2;stroke:rgb(255,255,255)\"/><rect x=\"220\" y=\"0\" width=\"55\" height=\"55\" style=\"fill:#f3907e;stroke-width:2;stroke:rgb(255,255,255)\"/><rect x=\"275\" y=\"0\" width=\"55\" height=\"55\" style=\"fill:#66e9ec;stroke-width:2;stroke:rgb(255,255,255)\"/></svg>"
      ],
      "text/plain": [
       "[(0.47843137254901963, 0.4627450980392157, 0.7607843137254902),\n",
       " (1.0, 0.43137254901960786, 0.611764705882353),\n",
       " (0.9647058823529412, 0.12941176470588237, 0.5882352941176471),\n",
       " (0.09411764705882353, 0.7529411764705882, 0.7686274509803922),\n",
       " (0.9529411764705882, 0.5647058823529412, 0.49411764705882355),\n",
       " (0.4, 0.9137254901960784, 0.9254901960784314)]"
      ]
     },
     "execution_count": 36,
     "metadata": {},
     "output_type": "execute_result"
    }
   ],
   "source": [
    "sns.color_palette()"
   ]
  },
  {
   "attachments": {},
   "cell_type": "markdown",
   "metadata": {},
   "source": [
    "## 1. Traffic Import and Cleaning <a class=\"anchor\" id=\"one\"></a>"
   ]
  },
  {
   "attachments": {},
   "cell_type": "markdown",
   "metadata": {},
   "source": [
    "### Compile data from irregular, unstructured csv files"
   ]
  },
  {
   "attachments": {},
   "cell_type": "markdown",
   "metadata": {},
   "source": [
    "The table for each traffic counting station is unfortunately only available as a text file with irregular headings and an individual table for each day and counting station. Between each table are empty lines and text which varies. Furthermore, the tables are distributed across multiple csv files. These tables need to be concatenated to form a single table for each unique counting station across all dates. To do so run the script we developed from the terminal:\n",
    "\n",
    "```> python csv-wrangling.py```\n",
    "\n",
    "Or execture the cell below. You need access to the Traffic Data, which we do not have permission to upload to github.\n",
    "\n",
    "The output file is called ```compiled-zählstellen.csv```"
   ]
  },
  {
   "cell_type": "code",
   "execution_count": 2,
   "metadata": {},
   "outputs": [
    {
     "name": "stdout",
     "output_type": "stream",
     "text": [
      "Processing ./data/Anfrage_SWiesner_2012.csv\n",
      "EOF, line:  177240\n",
      "Processing ./data/Anfrage_SWiesner_2013.csv\n",
      "EOF, line:  179130\n",
      "Processing ./data/Anfrage_SWiesner_2014.csv\n",
      "EOF, line:  225155\n",
      "Processing ./data/Anfrage_SWiesner_2015.csv\n",
      "EOF, line:  225120\n",
      "Processing ./data/Anfrage_SWiesner_2016.csv\n",
      "EOF, line:  222985\n",
      "Processing ./data/Anfrage_SWiesner_2017.csv\n",
      "EOF, line:  222845\n",
      "Processing ./data/Anfrage_SWiesner_2018.csv\n",
      "EOF, line:  255290\n",
      "Processing ./data/Anfrage_SWiesner_2019.csv\n",
      "EOF, line:  250845\n",
      "Processing ./data/Anfrage_SWiesner_2020.csv\n",
      "EOF, line:  231280\n",
      "Processing ./data/Anfrage_SWiesner_2021.csv\n",
      "EOF, line:  191870\n",
      "Processing ./data/Anfrage_SWiesner_2022.csv\n",
      "EOF, line:  211085\n"
     ]
    }
   ],
   "source": [
    "! (cd ..; python csv-wrangling.py)"
   ]
  },
  {
   "cell_type": "code",
   "execution_count": 38,
   "metadata": {},
   "outputs": [],
   "source": [
    "## Read complied csv into dataframe and parse Datetime\n",
    "df = pd.read_csv(\"../data/compiled-zähstellen.csv\", index_col=0, parse_dates=True)"
   ]
  },
  {
   "cell_type": "code",
   "execution_count": 39,
   "metadata": {},
   "outputs": [
    {
     "data": {
      "text/html": [
       "<div>\n",
       "<style scoped>\n",
       "    .dataframe tbody tr th:only-of-type {\n",
       "        vertical-align: middle;\n",
       "    }\n",
       "\n",
       "    .dataframe tbody tr th {\n",
       "        vertical-align: top;\n",
       "    }\n",
       "\n",
       "    .dataframe thead th {\n",
       "        text-align: right;\n",
       "    }\n",
       "</style>\n",
       "<table border=\"1\" class=\"dataframe\">\n",
       "  <thead>\n",
       "    <tr style=\"text-align: right;\">\n",
       "      <th></th>\n",
       "      <th>Zählstelle</th>\n",
       "      <th>PKW</th>\n",
       "      <th>LKW</th>\n",
       "      <th>Gesamt</th>\n",
       "    </tr>\n",
       "    <tr>\n",
       "      <th>datetime</th>\n",
       "      <th></th>\n",
       "      <th></th>\n",
       "      <th></th>\n",
       "      <th></th>\n",
       "    </tr>\n",
       "  </thead>\n",
       "  <tbody>\n",
       "    <tr>\n",
       "      <th>2012-01-01 00:30:00</th>\n",
       "      <td>1013</td>\n",
       "      <td>168</td>\n",
       "      <td>11</td>\n",
       "      <td>179</td>\n",
       "    </tr>\n",
       "    <tr>\n",
       "      <th>2012-01-01 01:30:00</th>\n",
       "      <td>1013</td>\n",
       "      <td>359</td>\n",
       "      <td>20</td>\n",
       "      <td>379</td>\n",
       "    </tr>\n",
       "    <tr>\n",
       "      <th>2012-01-01 02:30:00</th>\n",
       "      <td>1013</td>\n",
       "      <td>989</td>\n",
       "      <td>17</td>\n",
       "      <td>1006</td>\n",
       "    </tr>\n",
       "    <tr>\n",
       "      <th>2012-01-01 03:30:00</th>\n",
       "      <td>1013</td>\n",
       "      <td>942</td>\n",
       "      <td>22</td>\n",
       "      <td>964</td>\n",
       "    </tr>\n",
       "    <tr>\n",
       "      <th>2012-01-01 04:30:00</th>\n",
       "      <td>1013</td>\n",
       "      <td>592</td>\n",
       "      <td>17</td>\n",
       "      <td>609</td>\n",
       "    </tr>\n",
       "    <tr>\n",
       "      <th>...</th>\n",
       "      <td>...</td>\n",
       "      <td>...</td>\n",
       "      <td>...</td>\n",
       "      <td>...</td>\n",
       "    </tr>\n",
       "    <tr>\n",
       "      <th>2022-04-06 19:30:00</th>\n",
       "      <td>3556</td>\n",
       "      <td>2552</td>\n",
       "      <td>508</td>\n",
       "      <td>3060</td>\n",
       "    </tr>\n",
       "    <tr>\n",
       "      <th>2022-04-06 20:30:00</th>\n",
       "      <td>3556</td>\n",
       "      <td>1519</td>\n",
       "      <td>324</td>\n",
       "      <td>1843</td>\n",
       "    </tr>\n",
       "    <tr>\n",
       "      <th>2022-04-06 21:30:00</th>\n",
       "      <td>3556</td>\n",
       "      <td>1268</td>\n",
       "      <td>269</td>\n",
       "      <td>1537</td>\n",
       "    </tr>\n",
       "    <tr>\n",
       "      <th>2022-04-06 22:30:00</th>\n",
       "      <td>3556</td>\n",
       "      <td>963</td>\n",
       "      <td>232</td>\n",
       "      <td>1195</td>\n",
       "    </tr>\n",
       "    <tr>\n",
       "      <th>2022-04-06 23:30:00</th>\n",
       "      <td>3556</td>\n",
       "      <td>609</td>\n",
       "      <td>259</td>\n",
       "      <td>868</td>\n",
       "    </tr>\n",
       "  </tbody>\n",
       "</table>\n",
       "<p>1633641 rows × 4 columns</p>\n",
       "</div>"
      ],
      "text/plain": [
       "                     Zählstelle   PKW  LKW  Gesamt\n",
       "datetime                                          \n",
       "2012-01-01 00:30:00        1013   168   11     179\n",
       "2012-01-01 01:30:00        1013   359   20     379\n",
       "2012-01-01 02:30:00        1013   989   17    1006\n",
       "2012-01-01 03:30:00        1013   942   22     964\n",
       "2012-01-01 04:30:00        1013   592   17     609\n",
       "...                         ...   ...  ...     ...\n",
       "2022-04-06 19:30:00        3556  2552  508    3060\n",
       "2022-04-06 20:30:00        3556  1519  324    1843\n",
       "2022-04-06 21:30:00        3556  1268  269    1537\n",
       "2022-04-06 22:30:00        3556   963  232    1195\n",
       "2022-04-06 23:30:00        3556   609  259     868\n",
       "\n",
       "[1633641 rows x 4 columns]"
      ]
     },
     "execution_count": 39,
     "metadata": {},
     "output_type": "execute_result"
    }
   ],
   "source": [
    "## table contains the id of the counter \"Zählstelle\", cars (PKW) and trucks (LKW) as well as a total count (Gesamt)\n",
    "df"
   ]
  },
  {
   "cell_type": "code",
   "execution_count": 40,
   "metadata": {},
   "outputs": [
    {
     "name": "stdout",
     "output_type": "stream",
     "text": [
      "<class 'pandas.core.frame.DataFrame'>\n",
      "DatetimeIndex: 1633641 entries, 2012-01-01 00:30:00 to 2022-04-06 23:30:00\n",
      "Data columns (total 4 columns):\n",
      " #   Column      Non-Null Count    Dtype\n",
      "---  ------      --------------    -----\n",
      " 0   Zählstelle  1633641 non-null  int64\n",
      " 1   PKW         1633641 non-null  int64\n",
      " 2   LKW         1633641 non-null  int64\n",
      " 3   Gesamt      1633641 non-null  int64\n",
      "dtypes: int64(4)\n",
      "memory usage: 62.3 MB\n"
     ]
    }
   ],
   "source": [
    "### Over a million datapoints of type integer\n",
    "df.info()"
   ]
  },
  {
   "attachments": {},
   "cell_type": "markdown",
   "metadata": {},
   "source": [
    "### Visualising data and missing values <a class=\"anchor\" id=\"two\"></a>"
   ]
  },
  {
   "cell_type": "markdown",
   "metadata": {},
   "source": [
    "We perform the analysis for a single station here, there are qualitatively simiar results for the other counting stations"
   ]
  },
  {
   "cell_type": "code",
   "execution_count": 41,
   "metadata": {},
   "outputs": [
    {
     "data": {
      "text/html": [
       "<div>\n",
       "<style scoped>\n",
       "    .dataframe tbody tr th:only-of-type {\n",
       "        vertical-align: middle;\n",
       "    }\n",
       "\n",
       "    .dataframe tbody tr th {\n",
       "        vertical-align: top;\n",
       "    }\n",
       "\n",
       "    .dataframe thead th {\n",
       "        text-align: right;\n",
       "    }\n",
       "</style>\n",
       "<table border=\"1\" class=\"dataframe\">\n",
       "  <thead>\n",
       "    <tr style=\"text-align: right;\">\n",
       "      <th></th>\n",
       "      <th>ds</th>\n",
       "      <th>y</th>\n",
       "    </tr>\n",
       "  </thead>\n",
       "  <tbody>\n",
       "    <tr>\n",
       "      <th>0</th>\n",
       "      <td>2012-11-08</td>\n",
       "      <td>54836.0</td>\n",
       "    </tr>\n",
       "    <tr>\n",
       "      <th>1</th>\n",
       "      <td>2012-11-09</td>\n",
       "      <td>55398.0</td>\n",
       "    </tr>\n",
       "    <tr>\n",
       "      <th>2</th>\n",
       "      <td>2012-11-10</td>\n",
       "      <td>43370.0</td>\n",
       "    </tr>\n",
       "    <tr>\n",
       "      <th>3</th>\n",
       "      <td>2012-11-11</td>\n",
       "      <td>NaN</td>\n",
       "    </tr>\n",
       "    <tr>\n",
       "      <th>4</th>\n",
       "      <td>2012-11-12</td>\n",
       "      <td>53170.0</td>\n",
       "    </tr>\n",
       "    <tr>\n",
       "      <th>...</th>\n",
       "      <td>...</td>\n",
       "      <td>...</td>\n",
       "    </tr>\n",
       "    <tr>\n",
       "      <th>3701</th>\n",
       "      <td>2022-12-27</td>\n",
       "      <td>39152.0</td>\n",
       "    </tr>\n",
       "    <tr>\n",
       "      <th>3702</th>\n",
       "      <td>2022-12-28</td>\n",
       "      <td>37173.0</td>\n",
       "    </tr>\n",
       "    <tr>\n",
       "      <th>3703</th>\n",
       "      <td>2022-12-29</td>\n",
       "      <td>39667.0</td>\n",
       "    </tr>\n",
       "    <tr>\n",
       "      <th>3704</th>\n",
       "      <td>2022-12-30</td>\n",
       "      <td>39021.0</td>\n",
       "    </tr>\n",
       "    <tr>\n",
       "      <th>3705</th>\n",
       "      <td>2022-12-31</td>\n",
       "      <td>25536.0</td>\n",
       "    </tr>\n",
       "  </tbody>\n",
       "</table>\n",
       "<p>3706 rows × 2 columns</p>\n",
       "</div>"
      ],
      "text/plain": [
       "             ds        y\n",
       "0    2012-11-08  54836.0\n",
       "1    2012-11-09  55398.0\n",
       "2    2012-11-10  43370.0\n",
       "3    2012-11-11      NaN\n",
       "4    2012-11-12  53170.0\n",
       "...         ...      ...\n",
       "3701 2022-12-27  39152.0\n",
       "3702 2022-12-28  37173.0\n",
       "3703 2022-12-29  39667.0\n",
       "3704 2022-12-30  39021.0\n",
       "3705 2022-12-31  25536.0\n",
       "\n",
       "[3706 rows x 2 columns]"
      ]
     },
     "execution_count": 41,
     "metadata": {},
     "output_type": "execute_result"
    }
   ],
   "source": [
    "### Choose the Zählstelle \n",
    "zähl = '1061'\n",
    "\n",
    "### Filter for Zählstelle\n",
    "df = df.query(f'Zählstelle == {zähl}').asfreq(freq=\"H\").reset_index()\n",
    "# df.Zählstelle[:] = zähl\n",
    "\n",
    "##Drop unused columns\n",
    "df.drop(['Zählstelle','PKW','LKW'],axis=1, inplace=True)\n",
    "\n",
    "## Rename columns for Prophet\n",
    "df.rename(columns={'Gesamt': 'y', 'datetime': 'ds'}, inplace=True)\n",
    "\n",
    "### Which hours have NaNs?\n",
    "df['NaN'] = df['y'].isna()\n",
    "\n",
    "### Set the index again to 'ds' and make daily sums of traffic and hourly NaNs\n",
    "df_daily = df.set_index('ds').resample('d').sum()\n",
    "\n",
    "### If a day has more than 2 hourly NaNs, replace the day with nan\n",
    "df_daily.loc[df_daily['NaN'] > 2,f'y'] = np.nan\n",
    "df_daily.drop(f'NaN', axis=1,inplace=True)\n",
    "\n",
    "## Overwrite dataframe of all Zählstellen with chosen Zählstelle in daily sums\n",
    "df = df_daily.reset_index()\n",
    "\n",
    "## Print head\n",
    "df"
   ]
  },
  {
   "cell_type": "code",
   "execution_count": 20,
   "metadata": {},
   "outputs": [
    {
     "data": {
      "image/png": "[encoded data removed]",
      "text/plain": [
       "<Figure size 1000x500 with 1 Axes>"
      ]
     },
     "metadata": {},
     "output_type": "display_data"
    }
   ],
   "source": [
    "fig, ax = plt.subplots(figsize=(10,5))\n",
    "\n",
    "sns.lineplot(data=df,x='ds',\n",
    "                   y='y',ax=ax);\n",
    "\n",
    "\n",
    "\n",
    "fig.autofmt_xdate()\n",
    "ax.set(xlabel='Time', ylabel='Total traffic density', title='Eppendorf (Hamburg) traffic density')\n",
    "\n",
    "plt.show()\n"
   ]
  },
  {
   "attachments": {},
   "cell_type": "markdown",
   "metadata": {},
   "source": [
    "There is a notable crash in traffic around the first lockdown "
   ]
  },
  {
   "cell_type": "code",
   "execution_count": 35,
   "metadata": {},
   "outputs": [
    {
     "data": {
      "image/png": "[encoded data removed]",
      "text/plain": [
       "<Figure size 1000x500 with 1 Axes>"
      ]
     },
     "metadata": {},
     "output_type": "display_data"
    }
   ],
   "source": [
    "## Count NaNs\n",
    "df['nan'] = df.y.isna()\n",
    "\n",
    "## Number of NaNs per year\n",
    "df['year'] = df.ds.dt.year\n",
    "\n",
    "nans_yr = df.groupby('year',as_index=False).nan.sum()\n",
    "\n",
    "## Plot the NaN sums\n",
    "fig, ax = plt.subplots(figsize=(10,5))\n",
    "\n",
    "sns.barplot(data=nans_yr, y='nan', x='year' , ax=ax, palette=sns.color_palette());\n",
    "\n",
    "fig.autofmt_xdate()\n",
    "ax.set(xlabel='Year', ylabel='Total missing data', title='Eppendorf (Hamburg) missing data')\n",
    "\n",
    "plt.show()\n",
    "\n"
   ]
  },
  {
   "attachments": {},
   "cell_type": "markdown",
   "metadata": {},
   "source": [
    "There are multiple missing values spread across the data, with peaks in 2013 and 2021. NB: The data begins in November 2012 and ends on the last day of 2022. We need to either impute missing values or find a time-series model the can incorporate NaNs"
   ]
  }
 ],
 "metadata": {
  "kernelspec": {
   "display_name": ".venv",
   "language": "python",
   "name": "python3"
  },
  "language_info": {
   "codemirror_mode": {
    "name": "ipython",
    "version": 3
   },
   "file_extension": ".py",
   "mimetype": "text/x-python",
   "name": "python",
   "nbconvert_exporter": "python",
   "pygments_lexer": "ipython3",
   "version": "3.9.6"
  },
  "orig_nbformat": 4
 },
 "nbformat": 4,
 "nbformat_minor": 2
}
