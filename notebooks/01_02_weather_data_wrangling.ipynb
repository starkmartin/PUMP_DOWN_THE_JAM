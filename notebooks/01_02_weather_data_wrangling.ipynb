{
 "cells": [
  {
   "attachments": {},
   "cell_type": "markdown",
   "metadata": {},
   "source": [
    "# Weather Data Wrangling\n",
    "### Data Source:\n",
    "- Weather data comes from the Meteorological Institute, Universität Hamburg (https://www.mi.uni-hamburg.de/). \n",
    "- It includes hourly values for air temperature, relative humidity, wind speed and direction, precipitation amount, duration of sunshine, and cloud coverage in Hamburg.\n",
    "- Each variable is stored as single column .txt with the extension \"M60_201201010000-202212312300.txt\" after the abbreveation of the variable\n",
    "- all weather .txt files contain entries for each hour. Missing values (NaN) are denoted as 9999\n",
    "\n",
    "|Variable   |Abbreveation   |\n",
    "|---|---|\n",
    "|wind direction in degree   |DD010   |\n",
    "|wind speed in m/s   |FF010   |\n",
    "|minutes of sunshine per hour   |GSM   |\n",
    "|cloud coverage in eigths   |NC   |\n",
    "|relative humindity in percent   |RH002   |\n",
    "|precipitation in mm   |RR   |\n",
    "|Surface-Temperature in °C  |TS000   |\n",
    "|Air-Temperature 2m in °C  |TT002   |\n",
    "\n",
    "### Aims:\n",
    "1. Get the 8 variables into a single time-series Data-Frame\n",
    "2. replace missing values 9999 with NaN\n",
    "3. create clean column names (features) \n",
    "5. Create daily aggegrates for each variable\n",
    "    1. To meaningfully aggregate sunshine-time per day, sunrise- and sunset-time must be mined using the daylight library (https://pypi.org/project/daylight/)\n",
    "    2. Calculate daylength\n",
    "    3. Aggregation function"
   ]
  },
  {
   "cell_type": "code",
   "execution_count": null,
   "metadata": {},
   "outputs": [],
   "source": [
    "import sys\n",
    "# adding to the path variables the one folder higher (locally, not changing system variables)\n",
    "sys.path.append(\"..\")\n",
    "import pandas as pd\n",
    "import numpy as np\n",
    "import seaborn as sns\n",
    "import matplotlib.pyplot as plt\n",
    "import warnings\n",
    "import csv\n",
    "import re\n",
    "from os import listdir\n",
    "\n",
    "warnings.filterwarnings('ignore')"
   ]
  },
  {
   "attachments": {},
   "cell_type": "markdown",
   "metadata": {},
   "source": [
    "##### 1. Read in .txt weather-data"
   ]
  },
  {
   "cell_type": "code",
   "execution_count": null,
   "metadata": {},
   "outputs": [],
   "source": [
    "### list of txt tables in m60\n",
    "m60 = listdir(\"../data/weather_m60\") \n",
    "### Very simple, each has only one column of measurements\n",
    "\n",
    "m60_s = {} ### dictionary of lists to be read in\n",
    "\n",
    "### Create a list of data-type float for each weather variable\n",
    "for txt in m60:\n",
    "    key = txt.replace(\"_201201010000-202212312300.txt\", \"\") # Define key name from filename\n",
    "    path = \"../data/weather_m60/\" + txt                     # relative path of .txt\n",
    "    with open(path) as file:                                # Open .txt\n",
    "        ls_file = file.read().splitlines()                  # read values into a list\n",
    "    m60_s[key] = [float(i) for i in ls_file]                # cast values to float and store in the dictionary\n",
    "\n",
    "### Cast dictionary to data-frame\n",
    "df_m60 = pd.DataFrame(m60_s)"
   ]
  },
  {
   "cell_type": "code",
   "execution_count": null,
   "metadata": {},
   "outputs": [],
   "source": [
    "### Attach a Date-time as index\n",
    "df_m60[\"datetime\"]= pd.date_range(\"2012-01-01 00:30:00\", \"2022-12-31 23:30:00\", freq=\"1H\")\n",
    "df_m60.set_index(\"datetime\", inplace=True)"
   ]
  },
  {
   "attachments": {},
   "cell_type": "markdown",
   "metadata": {},
   "source": [
    "##### 2. Replace Missing Values"
   ]
  },
  {
   "cell_type": "code",
   "execution_count": null,
   "metadata": {},
   "outputs": [],
   "source": [
    "na_val = 99999\n",
    "def count_nine(series, na_val = 99999):\n",
    "    return sum(series == na_val)"
   ]
  },
  {
   "cell_type": "code",
   "execution_count": null,
   "metadata": {},
   "outputs": [],
   "source": [
    "df_m60.apply(lambda x: count_nine(x))"
   ]
  },
  {
   "cell_type": "code",
   "execution_count": null,
   "metadata": {},
   "outputs": [],
   "source": [
    "### Replace 9999 with na\n",
    "df_m60 = df_m60.apply(lambda x: x.replace(na_val, np.nan))"
   ]
  },
  {
   "attachments": {},
   "cell_type": "markdown",
   "metadata": {},
   "source": [
    "##### 3. Clean column names\n",
    "- export hourly dataframe"
   ]
  },
  {
   "cell_type": "code",
   "execution_count": null,
   "metadata": {},
   "outputs": [],
   "source": [
    "### Column names\n",
    "df_m60.columns = [\"wind_dir\", \"sun_minutes\", \"rel_humid\", \"cloud_cover\", \"t_air\", \n",
    "                  \"t_surface\", \"precip\", \"wind_speed\"]\n",
    "\n",
    "### Export as Pickle and csv\n",
    "df_m60.to_pickle(\"../data/df_weather_2012_2022.pkl\")\n",
    "df_m60.to_csv(\"../data/df_weather_2012_2022.csv\")\n"
   ]
  },
  {
   "attachments": {},
   "cell_type": "markdown",
   "metadata": {},
   "source": [
    "##### 4. Daily data\n",
    "4.1 Setting up the daylight package and defining objects and functions for its proper usage"
   ]
  },
  {
   "cell_type": "code",
   "execution_count": null,
   "metadata": {},
   "outputs": [],
   "source": [
    "### Import libraries\n",
    "import daylight as dl\n",
    "import pytz\n",
    "import datetime as dt"
   ]
  },
  {
   "cell_type": "code",
   "execution_count": null,
   "metadata": {},
   "outputs": [],
   "source": [
    "### Define Epoch function to return a timestamp\n",
    "### returned timezone is Coordinated Universal Time (UTC)\n",
    "### This gives the expected format for the daylight.methods\n",
    "def epoch(year, month, day, hour=0, minute=0, second=0, \n",
    "          tz=pytz.UTC): \n",
    "    return int(tz.localize(dt.datetime(year, month, day, hour, minute, second)).timestamp())"
   ]
  },
  {
   "cell_type": "code",
   "execution_count": null,
   "metadata": {},
   "outputs": [],
   "source": [
    "### Define Timezone of Hamburg\n",
    "tz_hh = pytz.timezone(\"Europe/Berlin\")\n",
    "\n",
    "### Difference between Hamburg and Coordinated Universal Time (UTC)\n",
    "tz_hh_offset = tz_hh.utcoffset(dt.datetime.utcnow()).total_seconds()/3600\n",
    "\n",
    "### Sunclock Object to further locate at Coordinates of Hamburg (Central Station)\n",
    "sun_hh = dl.Sunclock(53.552736, 10.005490, tz_hh_offset)"
   ]
  },
  {
   "cell_type": "code",
   "execution_count": null,
   "metadata": {},
   "outputs": [],
   "source": [
    "### Test Daylength in Minutes\n",
    "(sun_hh.sunset(epoch(2023,3,15)) - \\\n",
    "    sun_hh.sunrise(epoch(2023,3,15)) ) \\\n",
    "    / 60 "
   ]
  },
  {
   "cell_type": "code",
   "execution_count": null,
   "metadata": {},
   "outputs": [],
   "source": [
    "### Function to get unique dates as strings from datetime-series\n",
    "def unique_dates(dt_series):\n",
    "    return dt_series.dt.strftime(\"%Y-%m-%d\").unique()\n",
    "\n",
    "### Define Function to get epoch input as integers from date object (index of time-series data-frame of weather)\n",
    "### Returns as array\n",
    "    # year as int\n",
    "    # Month as int (1-12)\n",
    "    # day as int (1-31)\n",
    "### Returned array is in the correct format for the daylight functions sunrise() and sunset()\n",
    "\n",
    "def get_epoch_input(dt_unique):\n",
    "    # Define empty lists for years, months, days\n",
    "    years = []\n",
    "    months = []\n",
    "    days = []\n",
    "\n",
    "    # extract parts from input and append to corresponding lists as integers\n",
    "    for dt_str in dt_unique:\n",
    "        dt_parts = [int(i) for i in dt_str.split(\"-\")]\n",
    "\n",
    "        years.append(dt_parts[0])\n",
    "        months.append(dt_parts[1])\n",
    "        days.append(dt_parts[2])\n",
    "    \n",
    "    ### Return as Array with one column for year, month, date\n",
    "    ### Makes it easier for vectorized computing of daylengths\n",
    "    return np.array([years, \n",
    "                months, \n",
    "                days]).T\n",
    "\n",
    "### Define Function to get daylength in minutes\n",
    "def get_daylength(sun_obj, epoch_input):\n",
    "    ep_dates = [epoch(row[0], row[1], row[2]) for row in epoch_input] ### Epochs of the dates as input for sunrise/sunset\n",
    "\n",
    "    # get sunrise, sunset as timestamp integer in seconds\n",
    "    sr_series = sun_obj.sunrise(ep_dates)\n",
    "    ss_series = sun_obj.sunset(ep_dates)\n",
    "\n",
    "    # cast to datetime object\n",
    "    sr_dt = pd.to_datetime(sr_series, unit = \"s\")\n",
    "    ss_dt = pd.to_datetime(ss_series, unit = \"s\")\n",
    "\n",
    "    daylen = (ss_series - sr_series)/60\n",
    "\n",
    "    return pd.DataFrame({\"day_minutes\": daylen, \"sunrise\": sr_dt, \"sunset\": ss_dt})"
   ]
  },
  {
   "cell_type": "code",
   "execution_count": null,
   "metadata": {},
   "outputs": [],
   "source": [
    "### Create datetime object - Unique dates of weather measurements\n",
    "dt_series = pd.Series(df_m60.index)"
   ]
  },
  {
   "attachments": {},
   "cell_type": "markdown",
   "metadata": {},
   "source": [
    "4.2 Apply daylight-functions to get sunrise, sunset and calculate the daylength for each day of the time series"
   ]
  },
  {
   "cell_type": "code",
   "execution_count": null,
   "metadata": {},
   "outputs": [],
   "source": [
    "# Series of dates 2012-2022\n",
    "ud = unique_dates(dt_series)\n",
    "\n",
    "# Get an Array of year, month, day integers\n",
    "epoch_input = get_epoch_input(ud)\n",
    "# Calculate daylength\n",
    "df_day = get_daylength(sun_hh, epoch_input)\n",
    "df_day[\"date\"] = pd.to_datetime(ud)\n",
    "df_day.set_index(\"date\", inplace=True)"
   ]
  },
  {
   "attachments": {},
   "cell_type": "markdown",
   "metadata": {},
   "source": [
    "##### 4.3 Daylength and weather summary\n",
    "- Include sunrise and sunset as dates in the returned data.frame\n",
    "- Define Function to summarize the data daily within a certain timeframe\n",
    "- append daylength to summarized weather data\n",
    "- export data-frame\n"
   ]
  },
  {
   "cell_type": "code",
   "execution_count": null,
   "metadata": {},
   "outputs": [],
   "source": [
    "### Aggregate hourly weather data by day\n",
    "df_weather_day = df_m60.groupby(\"date\").agg({\"wind_dir\": np.mean,\n",
    "                                  \"sun_minutes\": sum,\n",
    "                                  \"rel_humid\": np.mean,\n",
    "                                  \"cloud_cover\": np.mean,\n",
    "                                  \"t_air\": np.mean,\n",
    "                                  \"t_surface\": np.mean,\n",
    "                                  \"precip\":sum,\n",
    "                                  \"wind_speed\":np.mean})\n",
    "\n",
    "df_weather_day.index = pd.to_datetime(df_weather_day.index)\n",
    "\n",
    "### Append column of daylength to daily-aggregated weather\n",
    "df_weather_day = pd.concat([df_weather_day, df_day], axis = 1)\n",
    "\n",
    "### Calculate the fraction of sunshine per day in relation to the actual daylength (sunrise till sunset)\n",
    "df_weather_day[\"sun_time_fraction\"] = df_weather_day.sun_minutes /  df_weather_day.day_minutes \n",
    "\n",
    "# Export data\n",
    "df_weather_day.to_pickle(\"../data/df_weather_daily.pkl\")\n",
    "df_weather_day.to_csv(\"../data/df_weather_daily.csv\")"
   ]
  }
 ],
 "metadata": {
  "kernelspec": {
   "display_name": ".venv",
   "language": "python",
   "name": "python3"
  },
  "language_info": {
   "codemirror_mode": {
    "name": "ipython",
    "version": 3
   },
   "file_extension": ".py",
   "mimetype": "text/x-python",
   "name": "python",
   "nbconvert_exporter": "python",
   "pygments_lexer": "ipython3",
   "version": "3.9.8"
  },
  "orig_nbformat": 4
 },
 "nbformat": 4,
 "nbformat_minor": 2
}
