{
 "cells": [
  {
   "attachments": {},
   "cell_type": "markdown",
   "metadata": {},
   "source": [
    "### Final Model Runs for all stations\n",
    "- In previous notebooks a hyperparameter Search with cross validation of the basic prophet model with the small set of german-holidays (<20) was performed for each counting-station\n",
    "- Several stations needed to be excluded, as too many missing values resulted in prophet not being able to run.\n",
    "- This resulted in 16 stations for which the found hyperparameter values were entered into a table (\"../data/hyperparameter_search_complete.csv\")\n",
    "\n",
    "- In the following codeblocks we define functions to apply the best model as found by the hyperparameter search with cross-validation for each station\n",
    "    - As a proof of concept we train the a model for each station with all available to predict the traffic sum of a single day in march of 2022.\n",
    "    - the model will be trained with all data until the day before the predicted day.\n",
    "    - the procedure will be repeated for each day of march 2022 to provide a range of predicted dates for the proof of concept in the dashboard\n",
    "    - As a result, we will save the model objects in a hierarchical dictionary indexed by the stations and the dates\n",
    "    - Also a dictionary indexed by stations with dataframes containing all predictions for a station and the corresponding previous 7 days will be saved for the final input of the dashboard\n"
   ]
  },
  {
   "cell_type": "code",
   "execution_count": null,
   "metadata": {},
   "outputs": [],
   "source": [
    "### Import modules and necessary objects/functions\n",
    "import pandas as pd\n",
    "import numpy as np\n",
    "import seaborn as sns\n",
    "import matplotlib.pyplot as plt\n",
    "import warnings\n",
    "import matplotlib.dates as mdates\n",
    "\n",
    "from prophet import Prophet\n",
    "import plotly.express as px\n",
    "from prophet.plot import add_changepoints_to_plot, plot_cross_validation_metric\n",
    "from prophet.diagnostics import cross_validation, performance_metrics\n",
    "\n",
    "from datetime import datetime as dt\n",
    "\n",
    "import itertools\n",
    "\n",
    "\n",
    "from sklearn.metrics import mean_squared_error, mean_absolute_percentage_error\n",
    "\n",
    "%matplotlib inline\n",
    "\n",
    "\n",
    "warnings.filterwarnings('ignore')\n",
    "\n",
    "import trafficModules as tm"
   ]
  },
  {
   "attachments": {},
   "cell_type": "markdown",
   "metadata": {},
   "source": [
    "#### Read necessary data\n",
    "1. DataFrame of hourly traffic counts for each station from 2012-2022\n",
    "2. DataFrame of hyperparameter values for the final model for each station."
   ]
  },
  {
   "cell_type": "code",
   "execution_count": null,
   "metadata": {},
   "outputs": [],
   "source": [
    "### Read traffic data\n",
    "df = pd.read_csv('../data/compiled-zaehlstellen.csv',index_col=0, parse_dates=True)\n",
    "\n",
    "### Read final hyperparameter settings for stations\n",
    "### and station-classification\n",
    "df_params = pd.read_csv(\"../data/hyperparameter_search_complete.csv\")"
   ]
  },
  {
   "attachments": {},
   "cell_type": "markdown",
   "metadata": {},
   "source": [
    "#### Data-Cleaning of the hyper-parameter values\n",
    "- remove stations to excluded because of too many missing values of daily traffic sums\n",
    "- Drop unnecessary columns"
   ]
  },
  {
   "cell_type": "code",
   "execution_count": null,
   "metadata": {},
   "outputs": [],
   "source": [
    "### Clean df_params\n",
    "### 1054 occurs twice\n",
    "ind = df_params[df_params.Zählstelle == 1054].index[0]\n",
    "df_params.drop(ind, axis = 0, inplace = True)\n",
    "\n",
    "df_params = df_params[df_params.Include == 1] ### Keep only Zähöstellen for which a model shall be calculated\n",
    "df_params.drop([\"Include\",\"Comments\"], axis = 1, inplace = True) ### Drop unnecessary columns\n",
    "df_params.reset_index(inplace=True)\n",
    "df_params.drop(\"index\", axis = 1, inplace = True)\n",
    "df_params[\"seasonality_mode\"] = df_params[\"seasonality_mode\"].str.replace(\"'\", \"\")\n"
   ]
  },
  {
   "attachments": {},
   "cell_type": "markdown",
   "metadata": {},
   "source": [
    "#### Define Function for the preprocessing of traffic data of one station\n",
    "- In a time-series, the data must have continuous instances for a sequence of equally spaced points in time. Thus missing instances will be replaced with an NaN for the traffic variables\n",
    "- DailySums are calculated and replaced by NaN if too many (2) hourly instances are NaN"
   ]
  },
  {
   "cell_type": "code",
   "execution_count": null,
   "metadata": {},
   "outputs": [],
   "source": [
    "### Function to get daily sums for each station\n",
    "def daily_sum_station(df, zähl): ### zähl\n",
    "\n",
    "    zähl = str(zähl) # Query needs zähl as a string\n",
    "\n",
    "    ### Filter for one single zählstelle\n",
    "    # Set datetime as column, insert rows, where the time is missing in timeseries as y = NaN\n",
    "    df = df.query(f'Zählstelle == {zähl}').asfreq(freq=\"H\").reset_index()\n",
    "\n",
    "    ##Drop unused columns\n",
    "    df.drop(['Zählstelle','PKW','LKW'],axis=1, inplace=True)\n",
    "\n",
    "    ## Rename columns for Prophet\n",
    "    df.rename(columns={'Gesamt': 'y', 'datetime': 'ds'}, inplace=True)\n",
    "\n",
    "    ### Which hours have NaNs?\n",
    "    df['NaN'] = df['y'].isna()\n",
    "\n",
    "    ### Set the index again to 'ds' and make daily sums of traffic and hourly NaNs\n",
    "    df_daily = df.set_index('ds').resample('d').sum()\n",
    "\n",
    "    ### If a day has more than 2 hourly NaNs, replace the day with nan\n",
    "    df_daily.loc[df_daily['NaN'] > 2,f'y'] = np.nan\n",
    "    df_daily.drop(f'NaN', axis=1,inplace=True)\n",
    "\n",
    "    ## Overwrite dataframe of all zählstellen with chosen zählstelle in daily sums\n",
    "    df = df_daily.reset_index()\n",
    "\n",
    "    return df"
   ]
  },
  {
   "attachments": {},
   "cell_type": "markdown",
   "metadata": {},
   "source": [
    "#### Train-Test-Split Function\n",
    "- As the train-test split changes with each day to be predicted, we need to define a function for splitting accordingly by a provided cutoff-day"
   ]
  },
  {
   "cell_type": "code",
   "execution_count": null,
   "metadata": {},
   "outputs": [],
   "source": [
    "### Define Function for time-train test split\n",
    "def time_split(df, cutoff_1):\n",
    "    # Copy the data for splitting\n",
    "    y = df.copy(deep=True)\n",
    "\n",
    "    #Make first test/train cutoff. Test is not used for cross-validation\n",
    "    y_train = y[y.ds <= cutoff_1]\n",
    "    y_test = y[y.ds > cutoff_1]\n",
    "\n",
    "    return y_train, y_test"
   ]
  },
  {
   "attachments": {},
   "cell_type": "markdown",
   "metadata": {},
   "source": [
    "#### Define Cutoff-Days\n",
    "- these will be given to modelling procedure to split into train/test datasets"
   ]
  },
  {
   "cell_type": "code",
   "execution_count": null,
   "metadata": {},
   "outputs": [],
   "source": [
    "\n",
    "\n",
    "### Cutoffs\n",
    "cv_cutoffs = pd.date_range(end = pd.to_datetime(\"2022-03-31\"), periods = 32)\n",
    "\n",
    "### Prediction horizon: Predict for the next day only\n",
    "horizon=1"
   ]
  },
  {
   "attachments": {},
   "cell_type": "markdown",
   "metadata": {},
   "source": [
    "#### Function to get hyperparameter Values\n",
    "- from df_params\n",
    "- for one station.\n",
    "- indexes the row of the station, and returns a dictionary with the hyperparameter-values\n",
    "- the dictionary can be passed to the Prophet instance"
   ]
  },
  {
   "cell_type": "code",
   "execution_count": null,
   "metadata": {},
   "outputs": [],
   "source": [
    "### Define Function to get hyperparameter values for this station as found by grid search\n",
    "def get_params_zst(df_params, zähl):\n",
    "    ### Index by Zählstelle and the 4 columns defining the hyperparameters\n",
    "    row_params = df_params.loc[df_params.Zählstelle== zähl, ['changepoint_prior_scale', 'seasonality_prior_scale',\n",
    "       'holidays_prior_scale', 'seasonality_mode']]\n",
    "    ### transform into dictionary\n",
    "    params = row_params.to_dict(orient=\"records\")[0]\n",
    "    return params"
   ]
  },
  {
   "attachments": {},
   "cell_type": "markdown",
   "metadata": {},
   "source": [
    "#### Comparing the predicted traffic to the previous year\n",
    "- this enables the user of the dashboard to intuitively interpret the traffic prediction\n",
    "- A mean of the measured daily sums from the same weekday of the previous year will be calculated\n",
    "- the difference between the prediction and the mean is divided by the mean to relate the preddiction to the mean"
   ]
  },
  {
   "cell_type": "code",
   "execution_count": null,
   "metadata": {},
   "outputs": [],
   "source": [
    "### Function for getting the difference from the mean in percentage of the mean\n",
    "def get_dif_mean_pred(y_train, day_pred, y_hat_):\n",
    "    day_pred_wd = day_pred.weekday() # Get weekday of day to predict\n",
    "    y_year = y_train[-365:] # Shorten y_train to the last year\n",
    "    y_wd = y_year.y[y_train.ds.dt.weekday == day_pred_wd] # get only weekdays of day to predict from last year\n",
    "    mean_y = y_wd.mean() # mean of these weekdays fro last year\n",
    "    #std_y = y_wd.std() # standard-deviation of these weekdays from last year\n",
    "\n",
    "    return (y_hat_ - mean_y) / mean_y # Relate difference between predicted value and mean of weekday related to mean"
   ]
  },
  {
   "attachments": {},
   "cell_type": "markdown",
   "metadata": {},
   "source": [
    "#### Core function to train and predict for one day and one station\n",
    "- Returns a df of (8) rows including date, y, yhat, date of prediction, and difference to mean "
   ]
  },
  {
   "cell_type": "code",
   "execution_count": null,
   "metadata": {},
   "outputs": [],
   "source": [
    "### Function for the actual modelling for one station and one day and prediction in Loop\n",
    "def model_station_day(params, df_st, cutoff_train, day_pred, rows_outp, country_hol):\n",
    "    ### Apply time train-test-split for each of the dates in cv_cutoffs list. Y_train ends today, cutoff_train is tomorrow\n",
    "    y_train, y_test = time_split(df_st, cutoff_train)\n",
    "\n",
    "    ### Build model\n",
    "    m = Prophet(**params, daily_seasonality=False)\n",
    "    ### Add Country holidays \n",
    "    m.add_country_holidays(country_name=country_hol)\n",
    "    ### Fit model with values until yesterday\n",
    "    with tm.suppress_stdout_stderr():\n",
    "        m.fit(y_train)\n",
    "\n",
    "    ### Construct future df (One row only - next day). This gives the dates only\n",
    "    df_pred = m.make_future_dataframe(periods = 1)\n",
    "    ### Predict: get y hat values\n",
    "    df_pred = m.predict(df_pred)\n",
    "\n",
    "    ### Column for identifying the day for which the model predicted\n",
    "    df_pred[\"day_predicted\"] = day_pred\n",
    "    ### add true y_values to df_pred\n",
    "    y_val = y_train.y.tolist()\n",
    "    y_val.append(np.NaN)\n",
    "    df_pred[\"y\"] = y_val\n",
    "    ### Shorten as output for dashboard\n",
    "    df_pred = df_pred.tail(rows_outp)\n",
    "    df_pred.reset_index(inplace = True)\n",
    "\n",
    "    ### Add difference of prediction to mean traffic of this weekday\n",
    "    y_hat_ = df_pred.yhat.iloc[-1]\n",
    "    y_dif_mean_lst = [np.NaN]*(rows_outp-1)\n",
    "    y_dif_mean = get_dif_mean_pred(y_train, day_pred, y_hat_)\n",
    "    y_dif_mean_lst.append(y_dif_mean)\n",
    "    df_pred[\"y_dif_mean\"] = y_dif_mean_lst\n",
    "\n",
    "    ### Return Model and DataFrame of Predictions\n",
    "    return m, df_pred "
   ]
  },
  {
   "attachments": {},
   "cell_type": "markdown",
   "metadata": {},
   "source": [
    "#### Function of preprocessing and applying modelling function\n",
    "- is applied for one station\n",
    "- gets hyperparameter-values\n",
    "- preprocesses the target-timeseries:\n",
    "- applies the model for each day as defined by the range of cutoffs (march 2022)\n",
    "- saves the necessary part of the resulting data.frame in a list\n",
    "- returns the list of dataframes (one df of rows = rows_output(8)) and a dictionary of prophet-model objects "
   ]
  },
  {
   "cell_type": "code",
   "execution_count": null,
   "metadata": {},
   "outputs": [],
   "source": [
    "### Function for preparing modelling input and start the loop through all cutoffs (dates of one month) for one station\n",
    "def model_station(zähl, df_params, df, cv_cutoffs, country_hol, rows_outp):\n",
    "    ### Get station params from params_df with zähl as dictionary\n",
    "    params = get_params_zst(df_params, zähl)\n",
    "\n",
    "    ### Apply daily_sum_stations() to df for this station only\n",
    "    df_st = daily_sum_station(df, zähl)\n",
    "\n",
    "    ### Daily prediction is done for preparation purposes for the whole month in advance\n",
    "    len_mon = len(cv_cutoffs) - 1\n",
    "    ### List of dfs to store the predictions in\n",
    "    ls_df = []\n",
    "    ### Dictionary to store model objects in\n",
    "    dict_m = {}\n",
    "    ### Loop through dates. apply prophet and predict\n",
    "    for i_day in range(len_mon):\n",
    "        ### day to predict traffic for\n",
    "        day_pred = cv_cutoffs[i_day + 1]\n",
    "        ### last day of training\n",
    "        cutoff_train = cv_cutoffs[i_day]\n",
    "\n",
    "        ### Apply modelling function model_station_day\n",
    "        m, df_pred = model_station_day(params, df_st, cutoff_train, day_pred, country_hol = country_hol, \n",
    "                                       rows_outp = rows_outp)\n",
    "        ### Column for identifying the Zählstelle\n",
    "        df_pred[\"Zählstelle\"] = zähl\n",
    "        ### Write df into list. Only the last year is stored\n",
    "        ls_df.append(df_pred[['ds','yhat_lower', 'yhat_upper', 'yhat', 'y', 'day_predicted', \n",
    "        'y_dif_mean', 'Zählstelle']])\n",
    "        ### Write model object into dictionary\n",
    "        dict_m[day_pred] = m\n",
    "    \n",
    "    ### ls_df back into one df\n",
    "    return dict_m, ls_df"
   ]
  },
  {
   "attachments": {},
   "cell_type": "markdown",
   "metadata": {},
   "source": [
    "#### Loop through all stations and apply model_station\n",
    "- resulting data-frames will be stored in a dict indexed by the station number\n",
    "- resulting model-dictionaries will be stored in a dict indexed by the station number"
   ]
  },
  {
   "cell_type": "code",
   "execution_count": null,
   "metadata": {},
   "outputs": [],
   "source": [
    "dict_df_zähl = {}\n",
    "dict_model_zähl = {}\n",
    "for zähl in df_params.Zählstelle:\n",
    "    ### Model for one station and all days of march 2022\n",
    "    dict_m, ls_df = model_station(zähl, df_params, df, cv_cutoffs, country_hol=\"DE\", rows_outp = 8)\n",
    "    ### One df of ls_df\n",
    "    df_pred = pd.concat(ls_df, axis = 0)\n",
    "\n",
    "    ### remove unnessacary columns\n",
    "    df_pred = df_pred[[\"ds\", \"yhat_lower\", \"yhat_upper\", \"yhat\", \"y\", \"y_dif_mean\", \"day_predicted\", \"Zählstelle\"]]\n",
    "    ### Save in dictionaries\n",
    "    dict_df_zähl[zähl] = df_pred\n",
    "    dict_model_zähl[zähl] = dict_m\n",
    "    del dict_m, ls_df, df_pred"
   ]
  },
  {
   "attachments": {},
   "cell_type": "markdown",
   "metadata": {},
   "source": [
    "#### Save dictionary of dfs for dashboard"
   ]
  },
  {
   "cell_type": "code",
   "execution_count": null,
   "metadata": {},
   "outputs": [],
   "source": [
    "\n",
    "pd.to_pickle(dict_df_zähl, \"../data/pred_station_date.pkl\")"
   ]
  }
 ],
 "metadata": {
  "kernelspec": {
   "display_name": ".venv-prophet",
   "language": "python",
   "name": "python3"
  },
  "language_info": {
   "codemirror_mode": {
    "name": "ipython",
    "version": 3
   },
   "file_extension": ".py",
   "mimetype": "text/x-python",
   "name": "python",
   "nbconvert_exporter": "python",
   "pygments_lexer": "ipython3",
   "version": "3.9.6"
  },
  "orig_nbformat": 4
 },
 "nbformat": 4,
 "nbformat_minor": 2
}
